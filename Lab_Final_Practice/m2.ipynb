{
 "cells": [
  {
   "cell_type": "markdown",
   "id": "d912c868",
   "metadata": {},
   "source": [
    "## Class And Object"
   ]
  },
  {
   "cell_type": "code",
   "execution_count": 1,
   "id": "0153c098",
   "metadata": {},
   "outputs": [
    {
     "name": "stdout",
     "output_type": "stream",
     "text": [
      "5\n"
     ]
    }
   ],
   "source": [
    "class Myclass:\n",
    "    a=5\n",
    "    \n",
    "\n",
    "p1 = Myclass()\n",
    "print(p1.a)"
   ]
  },
  {
   "cell_type": "markdown",
   "id": "05b9b2cb",
   "metadata": {},
   "source": [
    "## Init function"
   ]
  },
  {
   "cell_type": "code",
   "execution_count": 4,
   "id": "ad0f0a06",
   "metadata": {},
   "outputs": [
    {
     "name": "stdout",
     "output_type": "stream",
     "text": [
      "Pankaj\n",
      "24\n"
     ]
    }
   ],
   "source": [
    "class Emp:\n",
    "    def __init__(self,name,age):\n",
    "        self.name=name\n",
    "        self.age=age\n",
    "e1 = Emp(\"Pankaj\",24)\n",
    "print(e1.name)\n",
    "print(e1.age)"
   ]
  },
  {
   "cell_type": "code",
   "execution_count": 5,
   "id": "66a0dbc6",
   "metadata": {},
   "outputs": [
    {
     "name": "stdout",
     "output_type": "stream",
     "text": [
      "Hello My name is Pankaj\n"
     ]
    }
   ],
   "source": [
    "class emp:\n",
    "    def __init__(self,name,age):\n",
    "        self.name=name\n",
    "        self.age=age\n",
    "    def my(self):\n",
    "        print(\"Hello My name is \"+self.name)\n",
    "\n",
    "\n",
    "e1 = emp('Pankaj',23)\n",
    "e1.my()"
   ]
  },
  {
   "cell_type": "code",
   "execution_count": 6,
   "id": "b27dd144",
   "metadata": {},
   "outputs": [
    {
     "name": "stdout",
     "output_type": "stream",
     "text": [
      "Hello My name is Pankaj\n"
     ]
    }
   ],
   "source": [
    "class emp:\n",
    "    def __init__(s,name,age):\n",
    "        s.name=name\n",
    "        s.age=age\n",
    "    def my(ss):\n",
    "        print(\"Hello My name is \"+ss.name)\n",
    "\n",
    "\n",
    "e1 = emp('Pankaj',23)\n",
    "e1.my()"
   ]
  },
  {
   "cell_type": "markdown",
   "id": "0aba3c16",
   "metadata": {},
   "source": [
    "## Modification and delete parameter"
   ]
  },
  {
   "cell_type": "code",
   "execution_count": null,
   "id": "5418a9c9",
   "metadata": {},
   "outputs": [
    {
     "name": "stdout",
     "output_type": "stream",
     "text": [
      "30\n"
     ]
    }
   ],
   "source": [
    "\n",
    "# modifying\n",
    "class emp:\n",
    "    def __init__(self,name,age):\n",
    "        self.name=name\n",
    "        self.age=age\n",
    "    def my(self):\n",
    "        print(\"Hello My name is \"+self.name)\n",
    "\n",
    "\n",
    "e1 = emp('Pankaj',23)\n",
    "e1.age = 30\n",
    "print(e1.age)\n",
    "\n"
   ]
  },
  {
   "cell_type": "code",
   "execution_count": 8,
   "id": "78b030da",
   "metadata": {},
   "outputs": [
    {
     "ename": "AttributeError",
     "evalue": "'emp' object has no attribute 'age'",
     "output_type": "error",
     "traceback": [
      "\u001b[1;31m---------------------------------------------------------------------------\u001b[0m",
      "\u001b[1;31mAttributeError\u001b[0m                            Traceback (most recent call last)",
      "Cell \u001b[1;32mIn[8], line 12\u001b[0m\n\u001b[0;32m     10\u001b[0m e1 \u001b[38;5;241m=\u001b[39m emp(\u001b[38;5;124m'\u001b[39m\u001b[38;5;124mPankaj\u001b[39m\u001b[38;5;124m'\u001b[39m,\u001b[38;5;241m23\u001b[39m)\n\u001b[0;32m     11\u001b[0m \u001b[38;5;28;01mdel\u001b[39;00m e1\u001b[38;5;241m.\u001b[39mage\n\u001b[1;32m---> 12\u001b[0m \u001b[38;5;28mprint\u001b[39m(e1\u001b[38;5;241m.\u001b[39mage)\n",
      "\u001b[1;31mAttributeError\u001b[0m: 'emp' object has no attribute 'age'"
     ]
    }
   ],
   "source": [
    "# delete object element\n",
    "class emp:\n",
    "    def __init__(self,name,age):\n",
    "        self.name=name\n",
    "        self.age=age\n",
    "    def my(self):\n",
    "        print(\"Hello My name is \"+self.name)\n",
    "\n",
    "\n",
    "e1 = emp('Pankaj',23)\n",
    "del e1.age\n",
    "print(e1.age)\n"
   ]
  },
  {
   "cell_type": "code",
   "execution_count": 11,
   "id": "9da58e2e",
   "metadata": {},
   "outputs": [
    {
     "name": "stdout",
     "output_type": "stream",
     "text": [
      "Help on function my in module __main__:\n",
      "\n",
      "my(self)\n",
      "\n"
     ]
    }
   ],
   "source": [
    "help(emp.my)"
   ]
  },
  {
   "cell_type": "code",
   "execution_count": 1,
   "id": "249aeb0d",
   "metadata": {},
   "outputs": [],
   "source": [
    "import pandas as pd"
   ]
  },
  {
   "cell_type": "code",
   "execution_count": null,
   "id": "e19f6f1f-d37b-4e4b-93be-48e3f4b156c3",
   "metadata": {},
   "outputs": [],
   "source": [
    "dt = pd.DataFrame()"
   ]
  }
 ],
 "metadata": {
  "kernelspec": {
   "display_name": "Python 3 (ipykernel)",
   "language": "python",
   "name": "python3"
  },
  "language_info": {
   "codemirror_mode": {
    "name": "ipython",
    "version": 3
   },
   "file_extension": ".py",
   "mimetype": "text/x-python",
   "name": "python",
   "nbconvert_exporter": "python",
   "pygments_lexer": "ipython3",
   "version": "3.12.7"
  },
  "widgets": {
   "application/vnd.jupyter.widget-state+json": {
    "state": {},
    "version_major": 2,
    "version_minor": 0
   }
  }
 },
 "nbformat": 4,
 "nbformat_minor": 5
}
