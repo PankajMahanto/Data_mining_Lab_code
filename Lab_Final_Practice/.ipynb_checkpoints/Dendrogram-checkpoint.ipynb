{
 "cells": [
  {
   "cell_type": "code",
   "execution_count": 26,
   "id": "4f14325d-28b7-4391-a835-e126db85ddbe",
   "metadata": {},
   "outputs": [
    {
     "data": {
      "text/plain": [
       "[1, 2, 3, 4, 5]"
      ]
     },
     "execution_count": 26,
     "metadata": {},
     "output_type": "execute_result"
    }
   ],
   "source": [
    "a = [1,2,3,4,5]\n",
    "a"
   ]
  },
  {
   "cell_type": "code",
   "execution_count": 28,
   "id": "4b37f076-c0ab-4024-a38d-64a7a41c7e38",
   "metadata": {},
   "outputs": [
    {
     "data": {
      "text/plain": [
       "[1, 2, 3, 4, 5, 1, 2, 3, 4, 5]"
      ]
     },
     "execution_count": 28,
     "metadata": {},
     "output_type": "execute_result"
    }
   ],
   "source": [
    "a*2"
   ]
  },
  {
   "cell_type": "code",
   "execution_count": 34,
   "id": "548288d0-9cf6-4cd8-81bb-e4c261c093fb",
   "metadata": {},
   "outputs": [
    {
     "data": {
      "text/plain": [
       "['__add__',\n",
       " '__class__',\n",
       " '__class_getitem__',\n",
       " '__contains__',\n",
       " '__delattr__',\n",
       " '__delitem__',\n",
       " '__dir__',\n",
       " '__doc__',\n",
       " '__eq__',\n",
       " '__format__',\n",
       " '__ge__',\n",
       " '__getattribute__',\n",
       " '__getitem__',\n",
       " '__getstate__',\n",
       " '__gt__',\n",
       " '__hash__',\n",
       " '__iadd__',\n",
       " '__imul__',\n",
       " '__init__',\n",
       " '__init_subclass__',\n",
       " '__iter__',\n",
       " '__le__',\n",
       " '__len__',\n",
       " '__lt__',\n",
       " '__mul__',\n",
       " '__ne__',\n",
       " '__new__',\n",
       " '__reduce__',\n",
       " '__reduce_ex__',\n",
       " '__repr__',\n",
       " '__reversed__',\n",
       " '__rmul__',\n",
       " '__setattr__',\n",
       " '__setitem__',\n",
       " '__sizeof__',\n",
       " '__str__',\n",
       " '__subclasshook__',\n",
       " 'append',\n",
       " 'clear',\n",
       " 'copy',\n",
       " 'count',\n",
       " 'extend',\n",
       " 'index',\n",
       " 'insert',\n",
       " 'pop',\n",
       " 'remove',\n",
       " 'reverse',\n",
       " 'sort']"
      ]
     },
     "execution_count": 34,
     "metadata": {},
     "output_type": "execute_result"
    }
   ],
   "source": [
    "dir(a)"
   ]
  },
  {
   "cell_type": "code",
   "execution_count": 33,
   "id": "b8b6cf66-23bd-407c-bcce-b8d5801a3d63",
   "metadata": {},
   "outputs": [
    {
     "ename": "AttributeError",
     "evalue": "'list' object has no attribute 'mean'",
     "output_type": "error",
     "traceback": [
      "\u001b[1;31m---------------------------------------------------------------------------\u001b[0m",
      "\u001b[1;31mAttributeError\u001b[0m                            Traceback (most recent call last)",
      "Cell \u001b[1;32mIn[33], line 1\u001b[0m\n\u001b[1;32m----> 1\u001b[0m a\u001b[38;5;241m.\u001b[39mmean()\n",
      "\u001b[1;31mAttributeError\u001b[0m: 'list' object has no attribute 'mean'"
     ]
    }
   ],
   "source": [
    "a.mean()"
   ]
  },
  {
   "cell_type": "code",
   "execution_count": 29,
   "id": "bcea8e98-6051-4031-8bcc-343e7623b11b",
   "metadata": {},
   "outputs": [],
   "source": [
    "import numpy as np"
   ]
  },
  {
   "cell_type": "code",
   "execution_count": 35,
   "id": "01b0f2b9-85ae-4256-af2e-7a401fcf9cbb",
   "metadata": {},
   "outputs": [
    {
     "data": {
      "text/plain": [
       "[1, 2, 3, 4, 5]"
      ]
     },
     "execution_count": 35,
     "metadata": {},
     "output_type": "execute_result"
    }
   ],
   "source": [
    "a"
   ]
  },
  {
   "cell_type": "code",
   "execution_count": 36,
   "id": "1d5c1172-edf5-4bcd-ace7-86a15b077dc5",
   "metadata": {},
   "outputs": [
    {
     "data": {
      "text/plain": [
       "array([1, 2, 3, 4, 5])"
      ]
     },
     "execution_count": 36,
     "metadata": {},
     "output_type": "execute_result"
    }
   ],
   "source": [
    "ar = np.array(a)\n",
    "ar"
   ]
  },
  {
   "cell_type": "code",
   "execution_count": 39,
   "id": "f01175b1-1aa5-48d2-a0ab-ea1b00d62a47",
   "metadata": {},
   "outputs": [
    {
     "data": {
      "text/plain": [
       "array([ 2,  4,  6,  8, 10])"
      ]
     },
     "execution_count": 39,
     "metadata": {},
     "output_type": "execute_result"
    }
   ],
   "source": [
    "ar*2"
   ]
  },
  {
   "cell_type": "code",
   "execution_count": 32,
   "id": "3d8a8945-13fe-4cf4-8759-62303e49634f",
   "metadata": {},
   "outputs": [
    {
     "name": "stdout",
     "output_type": "stream",
     "text": [
      "ALLOW_THREADS ,BUFSIZE ,CLIP ,DataSource ,ERR_CALL ,ERR_DEFAULT ,ERR_IGNORE ,ERR_LOG ,ERR_PRINT ,ERR_RAISE ,ERR_WARN ,FLOATING_POINT_SUPPORT ,FPE_DIVIDEBYZERO ,FPE_INVALID ,FPE_OVERFLOW ,FPE_UNDERFLOW ,False_ ,Inf ,Infinity ,MAXDIMS ,MAY_SHARE_BOUNDS ,MAY_SHARE_EXACT ,NAN ,NINF ,NZERO ,NaN ,PINF ,PZERO ,RAISE ,RankWarning ,SHIFT_DIVIDEBYZERO ,SHIFT_INVALID ,SHIFT_OVERFLOW ,SHIFT_UNDERFLOW ,ScalarType ,True_ ,UFUNC_BUFSIZE_DEFAULT ,UFUNC_PYVALS_NAME ,WRAP ,_CopyMode ,_NoValue ,_UFUNC_API ,__NUMPY_SETUP__ ,__all__ ,__builtins__ ,__cached__ ,__config__ ,__deprecated_attrs__ ,__dir__ ,__doc__ ,__expired_functions__ ,__file__ ,__former_attrs__ ,__future_scalars__ ,__getattr__ ,__loader__ ,__name__ ,__package__ ,__path__ ,__spec__ ,__version__ ,_add_newdoc_ufunc ,_builtins ,_core ,_distributor_init ,_financial_names ,_get_promotion_state ,_globals ,_int_extended_msg ,_mat ,_no_nep50_warning ,_pyinstaller_hooks_dir ,_pytesttester ,_set_promotion_state ,_specific_msg ,_typing ,_using_numpy2_behavior ,_utils ,abs ,absolute ,add ,add_docstring ,add_newdoc ,add_newdoc_ufunc ,all ,allclose ,alltrue ,amax ,amin ,angle ,any ,append ,apply_along_axis ,apply_over_axes ,arange ,arccos ,arccosh ,arcsin ,arcsinh ,arctan ,arctan2 ,arctanh ,argmax ,argmin ,argpartition ,argsort ,argwhere ,around ,array ,array2string ,array_equal ,array_equiv ,array_repr ,array_split ,array_str ,asanyarray ,asarray ,asarray_chkfinite ,ascontiguousarray ,asfarray ,asfortranarray ,asmatrix ,atleast_1d ,atleast_2d ,atleast_3d ,average ,bartlett ,base_repr ,binary_repr ,bincount ,bitwise_and ,bitwise_not ,bitwise_or ,bitwise_xor ,blackman ,block ,bmat ,bool_ ,broadcast ,broadcast_arrays ,broadcast_shapes ,broadcast_to ,busday_count ,busday_offset ,busdaycalendar ,byte ,byte_bounds ,bytes_ ,c_ ,can_cast ,cast ,cbrt ,cdouble ,ceil ,cfloat ,char ,character ,chararray ,choose ,clip ,clongdouble ,clongfloat ,column_stack ,common_type ,compare_chararrays ,compat ,complex128 ,complex64 ,complex_ ,complexfloating ,compress ,concatenate ,conj ,conjugate ,convolve ,copy ,copysign ,copyto ,corrcoef ,correlate ,cos ,cosh ,count_nonzero ,cov ,cross ,csingle ,ctypeslib ,cumprod ,cumproduct ,cumsum ,datetime64 ,datetime_as_string ,datetime_data ,deg2rad ,degrees ,delete ,deprecate ,deprecate_with_doc ,diag ,diag_indices ,diag_indices_from ,diagflat ,diagonal ,diff ,digitize ,disp ,divide ,divmod ,dot ,double ,dsplit ,dstack ,dtype ,dtypes ,e ,ediff1d ,einsum ,einsum_path ,emath ,empty ,empty_like ,equal ,errstate ,euler_gamma ,exceptions ,exp ,exp2 ,expand_dims ,expm1 ,extract ,eye ,fabs ,fastCopyAndTranspose ,fft ,fill_diagonal ,find_common_type ,finfo ,fix ,flatiter ,flatnonzero ,flexible ,flip ,fliplr ,flipud ,float16 ,float32 ,float64 ,float_ ,float_power ,floating ,floor ,floor_divide ,fmax ,fmin ,fmod ,format_float_positional ,format_float_scientific ,format_parser ,frexp ,from_dlpack ,frombuffer ,fromfile ,fromfunction ,fromiter ,frompyfunc ,fromregex ,fromstring ,full ,full_like ,gcd ,generic ,genfromtxt ,geomspace ,get_array_wrap ,get_include ,get_printoptions ,getbufsize ,geterr ,geterrcall ,geterrobj ,gradient ,greater ,greater_equal ,half ,hamming ,hanning ,heaviside ,histogram ,histogram2d ,histogram_bin_edges ,histogramdd ,hsplit ,hstack ,hypot ,i0 ,identity ,iinfo ,imag ,in1d ,index_exp ,indices ,inexact ,inf ,info ,infty ,inner ,insert ,int16 ,int32 ,int64 ,int8 ,int_ ,intc ,integer ,interp ,intersect1d ,intp ,invert ,is_busday ,isclose ,iscomplex ,iscomplexobj ,isfinite ,isfortran ,isin ,isinf ,isnan ,isnat ,isneginf ,isposinf ,isreal ,isrealobj ,isscalar ,issctype ,issubclass_ ,issubdtype ,issubsctype ,iterable ,ix_ ,kaiser ,kron ,lcm ,ldexp ,left_shift ,less ,less_equal ,lexsort ,lib ,linalg ,linspace ,little_endian ,load ,loadtxt ,log ,log10 ,log1p ,log2 ,logaddexp ,logaddexp2 ,logical_and ,logical_not ,logical_or ,logical_xor ,logspace ,longcomplex ,longdouble ,longfloat ,longlong ,lookfor ,ma ,mask_indices ,mat ,matmul ,matrix ,max ,maximum ,maximum_sctype ,may_share_memory ,mean ,median ,memmap ,meshgrid ,mgrid ,min ,min_scalar_type ,minimum ,mintypecode ,mod ,modf ,moveaxis ,msort ,multiply ,nan ,nan_to_num ,nanargmax ,nanargmin ,nancumprod ,nancumsum ,nanmax ,nanmean ,nanmedian ,nanmin ,nanpercentile ,nanprod ,nanquantile ,nanstd ,nansum ,nanvar ,nbytes ,ndarray ,ndenumerate ,ndim ,ndindex ,nditer ,negative ,nested_iters ,newaxis ,nextafter ,nonzero ,not_equal ,numarray ,number ,obj2sctype ,object_ ,ogrid ,oldnumeric ,ones ,ones_like ,outer ,packbits ,pad ,partition ,percentile ,pi ,piecewise ,place ,poly ,poly1d ,polyadd ,polyder ,polydiv ,polyfit ,polyint ,polymul ,polynomial ,polysub ,polyval ,positive ,power ,printoptions ,prod ,product ,promote_types ,ptp ,put ,put_along_axis ,putmask ,quantile ,r_ ,rad2deg ,radians ,random ,ravel ,ravel_multi_index ,real ,real_if_close ,rec ,recarray ,recfromcsv ,recfromtxt ,reciprocal ,record ,remainder ,repeat ,require ,reshape ,resize ,result_type ,right_shift ,rint ,roll ,rollaxis ,roots ,rot90 ,round ,round_ ,row_stack ,s_ ,safe_eval ,save ,savetxt ,savez ,savez_compressed ,sctype2char ,sctypeDict ,sctypes ,searchsorted ,select ,set_numeric_ops ,set_printoptions ,set_string_function ,setbufsize ,setdiff1d ,seterr ,seterrcall ,seterrobj ,setxor1d ,shape ,shares_memory ,short ,show_config ,show_runtime ,sign ,signbit ,signedinteger ,sin ,sinc ,single ,singlecomplex ,sinh ,size ,sometrue ,sort ,sort_complex ,source ,spacing ,split ,sqrt ,square ,squeeze ,stack ,std ,str_ ,string_ ,subtract ,sum ,swapaxes ,take ,take_along_axis ,tan ,tanh ,tensordot ,test ,testing ,tile ,timedelta64 ,trace ,tracemalloc_domain ,transpose ,trapz ,tri ,tril ,tril_indices ,tril_indices_from ,trim_zeros ,triu ,triu_indices ,triu_indices_from ,true_divide ,trunc ,typecodes ,typename ,typing ,ubyte ,ufunc ,uint ,uint16 ,uint32 ,uint64 ,uint8 ,uintc ,uintp ,ulonglong ,unicode_ ,union1d ,unique ,unpackbits ,unravel_index ,unsignedinteger ,unwrap ,ushort ,vander ,var ,vdot ,vectorize ,version ,void ,vsplit ,vstack ,where ,who ,zeros ,zeros_like ,"
     ]
    }
   ],
   "source": [
    "n = dir(np)\n",
    "for x in n:\n",
    "    print(x,end=' ,')\n",
    "    "
   ]
  },
  {
   "cell_type": "code",
   "execution_count": null,
   "id": "41bc8ba3-c488-4a0b-8bc0-7e1481cc22e3",
   "metadata": {},
   "outputs": [],
   "source": []
  },
  {
   "cell_type": "code",
   "execution_count": null,
   "id": "1f157274-a18d-4b92-a7fa-ee6c20bda95f",
   "metadata": {},
   "outputs": [],
   "source": []
  },
  {
   "cell_type": "code",
   "execution_count": 13,
   "id": "cdfd4be8-5d11-4d62-b3c2-b481a47163c1",
   "metadata": {},
   "outputs": [
    {
     "data": {
      "text/plain": [
       "['_BUILT_WITH_MESON',\n",
       " '__SKLEARN_SETUP__',\n",
       " '__all__',\n",
       " '__builtins__',\n",
       " '__cached__',\n",
       " '__check_build',\n",
       " '__doc__',\n",
       " '__file__',\n",
       " '__loader__',\n",
       " '__name__',\n",
       " '__package__',\n",
       " '__path__',\n",
       " '__spec__',\n",
       " '__version__',\n",
       " '_built_with_meson',\n",
       " '_config',\n",
       " '_distributor_init',\n",
       " 'base',\n",
       " 'clone',\n",
       " 'config_context',\n",
       " 'exceptions',\n",
       " 'externals',\n",
       " 'get_config',\n",
       " 'logger',\n",
       " 'logging',\n",
       " 'os',\n",
       " 'random',\n",
       " 'set_config',\n",
       " 'setup_module',\n",
       " 'show_versions',\n",
       " 'sklearn',\n",
       " 'sys',\n",
       " 'utils']"
      ]
     },
     "execution_count": 13,
     "metadata": {},
     "output_type": "execute_result"
    }
   ],
   "source": [
    "import sklearn\n",
    "dir(sklearn)"
   ]
  },
  {
   "cell_type": "code",
   "execution_count": 41,
   "id": "9de44fb0-132c-4c7c-b5b9-95bf15d3fb85",
   "metadata": {},
   "outputs": [
    {
     "name": "stdout",
     "output_type": "stream",
     "text": [
      "__check_build\n",
      "_build_utils\n",
      "_built_with_meson\n",
      "_config\n",
      "_distributor_init\n",
      "_isotonic\n",
      "_loss\n",
      "_min_dependencies\n",
      "base\n",
      "calibration\n",
      "cluster\n",
      "compose\n",
      "conftest\n",
      "covariance\n",
      "cross_decomposition\n",
      "datasets\n",
      "decomposition\n",
      "discriminant_analysis\n",
      "dummy\n",
      "ensemble\n",
      "exceptions\n",
      "experimental\n",
      "externals\n",
      "feature_extraction\n",
      "feature_selection\n",
      "gaussian_process\n",
      "impute\n",
      "inspection\n",
      "isotonic\n",
      "kernel_approximation\n",
      "kernel_ridge\n",
      "linear_model\n",
      "manifold\n",
      "metrics\n",
      "mixture\n",
      "model_selection\n",
      "multiclass\n",
      "multioutput\n",
      "naive_bayes\n",
      "neighbors\n",
      "neural_network\n",
      "pipeline\n",
      "preprocessing\n",
      "random_projection\n",
      "semi_supervised\n",
      "svm\n",
      "tests\n",
      "tree\n",
      "utils\n"
     ]
    }
   ],
   "source": [
    "import pkgutil\n",
    "for x in pkgutil.iter_modules(sklearn.__path__):\n",
    "    print(x.name)"
   ]
  },
  {
   "cell_type": "code",
   "execution_count": null,
   "id": "fcfaa431-af35-4842-9bfa-bfade0b44ef7",
   "metadata": {},
   "outputs": [],
   "source": [
    "from sklearn.preprocessing import StandardScaler\n",
    "from sklearn.preprocessing import MinMaxScaler"
   ]
  },
  {
   "cell_type": "code",
   "execution_count": 46,
   "id": "2ac14cc9-8b9a-4733-b8cc-3dd8c003e598",
   "metadata": {},
   "outputs": [
    {
     "name": "stdout",
     "output_type": "stream",
     "text": [
      "_base\n",
      "classifier\n",
      "cluster\n",
      "data\n",
      "evaluate\n",
      "externals\n",
      "feature_extraction\n",
      "feature_selection\n",
      "file_io\n",
      "frequent_patterns\n",
      "math\n",
      "plotting\n",
      "preprocessing\n",
      "regressor\n",
      "text\n",
      "utils\n"
     ]
    }
   ],
   "source": [
    "import mlxtend as ml\n",
    "# dir(ml)\n",
    "import pkgutil \n",
    "\n",
    "for x in pkgutil.iter_modules(ml.__path__):\n",
    "    print(x.name)"
   ]
  },
  {
   "cell_type": "code",
   "execution_count": null,
   "id": "9095c6f7-40b1-4666-b791-d9b84c58ba18",
   "metadata": {},
   "outputs": [],
   "source": []
  },
  {
   "cell_type": "markdown",
   "id": "bb93c9d5-6b80-4c54-bce5-23cc60e5f437",
   "metadata": {},
   "source": [
    "## Data information"
   ]
  },
  {
   "cell_type": "code",
   "execution_count": 2,
   "id": "a712d2a1-a410-41c1-b08b-20bd9d6c6456",
   "metadata": {
    "scrolled": true
   },
   "outputs": [
    {
     "data": {
      "text/plain": [
       "['AffinityPropagation',\n",
       " 'AgglomerativeClustering',\n",
       " 'Birch',\n",
       " 'BisectingKMeans',\n",
       " 'DBSCAN',\n",
       " 'FeatureAgglomeration',\n",
       " 'HDBSCAN',\n",
       " 'KMeans',\n",
       " 'MeanShift',\n",
       " 'MiniBatchKMeans',\n",
       " 'OPTICS',\n",
       " 'SpectralBiclustering',\n",
       " 'SpectralClustering',\n",
       " 'SpectralCoclustering',\n",
       " '__all__',\n",
       " '__builtins__',\n",
       " '__cached__',\n",
       " '__doc__',\n",
       " '__file__',\n",
       " '__loader__',\n",
       " '__name__',\n",
       " '__package__',\n",
       " '__path__',\n",
       " '__spec__',\n",
       " '_affinity_propagation',\n",
       " '_agglomerative',\n",
       " '_bicluster',\n",
       " '_birch',\n",
       " '_bisect_k_means',\n",
       " '_dbscan',\n",
       " '_dbscan_inner',\n",
       " '_feature_agglomeration',\n",
       " '_hdbscan',\n",
       " '_hierarchical_fast',\n",
       " '_k_means_common',\n",
       " '_k_means_elkan',\n",
       " '_k_means_lloyd',\n",
       " '_k_means_minibatch',\n",
       " '_kmeans',\n",
       " '_mean_shift',\n",
       " '_optics',\n",
       " '_spectral',\n",
       " 'affinity_propagation',\n",
       " 'cluster_optics_dbscan',\n",
       " 'cluster_optics_xi',\n",
       " 'compute_optics_graph',\n",
       " 'dbscan',\n",
       " 'estimate_bandwidth',\n",
       " 'get_bin_seeds',\n",
       " 'k_means',\n",
       " 'kmeans_plusplus',\n",
       " 'linkage_tree',\n",
       " 'mean_shift',\n",
       " 'spectral_clustering',\n",
       " 'ward_tree']"
      ]
     },
     "execution_count": 2,
     "metadata": {},
     "output_type": "execute_result"
    }
   ],
   "source": [
    "import sklearn\n",
    "from sklearn import cluster as pp\n",
    "dir(pp)"
   ]
  },
  {
   "cell_type": "code",
   "execution_count": 3,
   "id": "89b0145d-5cd2-4048-b665-a3c9117b35af",
   "metadata": {},
   "outputs": [],
   "source": [
    "import numpy as np \n",
    "import pandas as pd\n",
    "import matplotlib.pyplot as plt\n"
   ]
  },
  {
   "cell_type": "code",
   "execution_count": null,
   "id": "1c0b5323-e98f-40c1-8018-119c1d7fbb72",
   "metadata": {},
   "outputs": [],
   "source": []
  },
  {
   "cell_type": "code",
   "execution_count": 4,
   "id": "d2f8d560-5908-40ef-ba46-54ff5ce18ef9",
   "metadata": {},
   "outputs": [
    {
     "data": {
      "text/html": [
       "<div>\n",
       "<style scoped>\n",
       "    .dataframe tbody tr th:only-of-type {\n",
       "        vertical-align: middle;\n",
       "    }\n",
       "\n",
       "    .dataframe tbody tr th {\n",
       "        vertical-align: top;\n",
       "    }\n",
       "\n",
       "    .dataframe thead th {\n",
       "        text-align: right;\n",
       "    }\n",
       "</style>\n",
       "<table border=\"1\" class=\"dataframe\">\n",
       "  <thead>\n",
       "    <tr style=\"text-align: right;\">\n",
       "      <th></th>\n",
       "      <th>Student</th>\n",
       "      <th>Age</th>\n",
       "      <th>Marks1</th>\n",
       "    </tr>\n",
       "  </thead>\n",
       "  <tbody>\n",
       "    <tr>\n",
       "      <th>0</th>\n",
       "      <td>S1</td>\n",
       "      <td>18</td>\n",
       "      <td>73</td>\n",
       "    </tr>\n",
       "    <tr>\n",
       "      <th>1</th>\n",
       "      <td>S2</td>\n",
       "      <td>18</td>\n",
       "      <td>79</td>\n",
       "    </tr>\n",
       "    <tr>\n",
       "      <th>2</th>\n",
       "      <td>S3</td>\n",
       "      <td>23</td>\n",
       "      <td>70</td>\n",
       "    </tr>\n",
       "    <tr>\n",
       "      <th>3</th>\n",
       "      <td>S4</td>\n",
       "      <td>20</td>\n",
       "      <td>55</td>\n",
       "    </tr>\n",
       "    <tr>\n",
       "      <th>4</th>\n",
       "      <td>S5</td>\n",
       "      <td>22</td>\n",
       "      <td>85</td>\n",
       "    </tr>\n",
       "  </tbody>\n",
       "</table>\n",
       "</div>"
      ],
      "text/plain": [
       "  Student  Age  Marks1\n",
       "0      S1   18      73\n",
       "1      S2   18      79\n",
       "2      S3   23      70\n",
       "3      S4   20      55\n",
       "4      S5   22      85"
      ]
     },
     "execution_count": 4,
     "metadata": {},
     "output_type": "execute_result"
    }
   ],
   "source": [
    "dt = pd.read_csv('C:/Users/Pankaj/Desktop/Data_mining_Lab_code/students.csv')\n",
    "dt.head()"
   ]
  },
  {
   "cell_type": "code",
   "execution_count": null,
   "id": "5e082a56-5203-4150-aa8f-b1c1034773d9",
   "metadata": {},
   "outputs": [],
   "source": []
  },
  {
   "cell_type": "code",
   "execution_count": 6,
   "id": "3eeeaf27-54a7-4d17-8a1a-0946e76aea4a",
   "metadata": {},
   "outputs": [],
   "source": [
    "from sklearn.cluster import AgglomerativeClustering"
   ]
  },
  {
   "cell_type": "code",
   "execution_count": 7,
   "id": "99b19de2-941b-4f89-950b-fcb6421ee88b",
   "metadata": {
    "collapsed": true,
    "jupyter": {
     "outputs_hidden": true
    },
    "scrolled": true
   },
   "outputs": [
    {
     "data": {
      "text/plain": [
       "['__annotations__',\n",
       " '__class__',\n",
       " '__delattr__',\n",
       " '__dict__',\n",
       " '__dir__',\n",
       " '__doc__',\n",
       " '__eq__',\n",
       " '__format__',\n",
       " '__ge__',\n",
       " '__getattribute__',\n",
       " '__getstate__',\n",
       " '__gt__',\n",
       " '__hash__',\n",
       " '__init__',\n",
       " '__init_subclass__',\n",
       " '__le__',\n",
       " '__lt__',\n",
       " '__module__',\n",
       " '__ne__',\n",
       " '__new__',\n",
       " '__reduce__',\n",
       " '__reduce_ex__',\n",
       " '__repr__',\n",
       " '__setattr__',\n",
       " '__setstate__',\n",
       " '__sizeof__',\n",
       " '__sklearn_clone__',\n",
       " '__str__',\n",
       " '__subclasshook__',\n",
       " '__weakref__',\n",
       " '_build_request_for_signature',\n",
       " '_check_feature_names',\n",
       " '_check_n_features',\n",
       " '_doc_link_module',\n",
       " '_doc_link_template',\n",
       " '_doc_link_url_param_generator',\n",
       " '_estimator_type',\n",
       " '_fit',\n",
       " '_get_default_requests',\n",
       " '_get_doc_link',\n",
       " '_get_metadata_request',\n",
       " '_get_param_names',\n",
       " '_get_tags',\n",
       " '_more_tags',\n",
       " '_parameter_constraints',\n",
       " '_repr_html_',\n",
       " '_repr_html_inner',\n",
       " '_repr_mimebundle_',\n",
       " '_validate_data',\n",
       " '_validate_params',\n",
       " 'fit',\n",
       " 'fit_predict',\n",
       " 'get_metadata_routing',\n",
       " 'get_params',\n",
       " 'set_params']"
      ]
     },
     "execution_count": 7,
     "metadata": {},
     "output_type": "execute_result"
    }
   ],
   "source": [
    "# den = AgglomerativeClustering()\n",
    "dir(AgglomerativeClustering)"
   ]
  },
  {
   "cell_type": "code",
   "execution_count": 9,
   "id": "cda706e4-7390-4853-81ec-019902b32716",
   "metadata": {},
   "outputs": [
    {
     "data": {
      "text/plain": [
       "['__all__',\n",
       " '__builtins__',\n",
       " '__cached__',\n",
       " '__doc__',\n",
       " '__file__',\n",
       " '__loader__',\n",
       " '__name__',\n",
       " '__package__',\n",
       " '__path__',\n",
       " '__spec__',\n",
       " '_hierarchy',\n",
       " '_optimal_leaf_ordering',\n",
       " '_vq',\n",
       " 'hierarchy',\n",
       " 'test',\n",
       " 'vq']"
      ]
     },
     "execution_count": 9,
     "metadata": {},
     "output_type": "execute_result"
    }
   ],
   "source": [
    "import scipy as s\n",
    "# dir(s)\n",
    "from scipy import cluster as s\n",
    "dir(s)"
   ]
  },
  {
   "cell_type": "code",
   "execution_count": 10,
   "id": "b0dce19d-6df8-4fa5-9ada-697f3af1d834",
   "metadata": {
    "collapsed": true,
    "jupyter": {
     "outputs_hidden": true
    }
   },
   "outputs": [
    {
     "data": {
      "text/plain": [
       "['ClusterNode',\n",
       " 'ClusterWarning',\n",
       " 'DisjointSet',\n",
       " '_EUCLIDEAN_METHODS',\n",
       " '_LINKAGE_METHODS',\n",
       " '__all__',\n",
       " '__builtins__',\n",
       " '__cached__',\n",
       " '__doc__',\n",
       " '__file__',\n",
       " '__loader__',\n",
       " '__name__',\n",
       " '__package__',\n",
       " '__spec__',\n",
       " '_append_contraction_marks',\n",
       " '_append_contraction_marks_sub',\n",
       " '_append_nonsingleton_leaf_node',\n",
       " '_append_singleton_leaf_node',\n",
       " '_asarray',\n",
       " '_check_hierarchy_not_all_clusters_used',\n",
       " '_check_hierarchy_uses_cluster_before_formed',\n",
       " '_check_hierarchy_uses_cluster_more_than_once',\n",
       " '_cnode_bare',\n",
       " '_cnode_type',\n",
       " '_dendrogram_calculate_info',\n",
       " '_drotation',\n",
       " '_drotationsortedkeys',\n",
       " '_dtextsizes',\n",
       " '_dtextsortedkeys',\n",
       " '_get_leaves_color_list',\n",
       " '_get_tick_rotation',\n",
       " '_get_tick_text_size',\n",
       " '_hierarchy',\n",
       " '_link_line_colors',\n",
       " '_link_line_colors_default',\n",
       " '_optimal_leaf_ordering',\n",
       " '_order_cluster_tree',\n",
       " '_plot_dendrogram',\n",
       " '_remove_dups',\n",
       " '_warning',\n",
       " 'array_namespace',\n",
       " 'average',\n",
       " 'bisect',\n",
       " 'centroid',\n",
       " 'complete',\n",
       " 'cophenet',\n",
       " 'copy',\n",
       " 'correspond',\n",
       " 'cut_tree',\n",
       " 'dendrogram',\n",
       " 'deque',\n",
       " 'distance',\n",
       " 'fcluster',\n",
       " 'fclusterdata',\n",
       " 'from_mlab_linkage',\n",
       " 'inconsistent',\n",
       " 'int_floor',\n",
       " 'is_isomorphic',\n",
       " 'is_monotonic',\n",
       " 'is_valid_im',\n",
       " 'is_valid_linkage',\n",
       " 'leaders',\n",
       " 'leaves_list',\n",
       " 'linkage',\n",
       " 'maxRstat',\n",
       " 'maxdists',\n",
       " 'maxinconsts',\n",
       " 'median',\n",
       " 'np',\n",
       " 'num_obs_linkage',\n",
       " 'optimal_leaf_ordering',\n",
       " 'set_link_color_palette',\n",
       " 'single',\n",
       " 'to_mlab_linkage',\n",
       " 'to_tree',\n",
       " 'ward',\n",
       " 'warnings',\n",
       " 'weighted']"
      ]
     },
     "execution_count": 10,
     "metadata": {},
     "output_type": "execute_result"
    }
   ],
   "source": [
    "from scipy.cluster import hierarchy as s\n",
    "dir(s)"
   ]
  },
  {
   "cell_type": "code",
   "execution_count": 11,
   "id": "3924b5e6-6ca6-4c63-81ac-1d706ec13733",
   "metadata": {},
   "outputs": [],
   "source": [
    "from scipy.cluster.hierarchy import dendrogram, linkage"
   ]
  },
  {
   "cell_type": "code",
   "execution_count": 16,
   "id": "7187d389-71e6-449b-aef8-ec883643d4ac",
   "metadata": {},
   "outputs": [
    {
     "data": {
      "text/html": [
       "<div>\n",
       "<style scoped>\n",
       "    .dataframe tbody tr th:only-of-type {\n",
       "        vertical-align: middle;\n",
       "    }\n",
       "\n",
       "    .dataframe tbody tr th {\n",
       "        vertical-align: top;\n",
       "    }\n",
       "\n",
       "    .dataframe thead th {\n",
       "        text-align: right;\n",
       "    }\n",
       "</style>\n",
       "<table border=\"1\" class=\"dataframe\">\n",
       "  <thead>\n",
       "    <tr style=\"text-align: right;\">\n",
       "      <th></th>\n",
       "      <th>Age</th>\n",
       "      <th>Marks1</th>\n",
       "    </tr>\n",
       "  </thead>\n",
       "  <tbody>\n",
       "    <tr>\n",
       "      <th>0</th>\n",
       "      <td>18</td>\n",
       "      <td>73</td>\n",
       "    </tr>\n",
       "    <tr>\n",
       "      <th>1</th>\n",
       "      <td>18</td>\n",
       "      <td>79</td>\n",
       "    </tr>\n",
       "    <tr>\n",
       "      <th>2</th>\n",
       "      <td>23</td>\n",
       "      <td>70</td>\n",
       "    </tr>\n",
       "    <tr>\n",
       "      <th>3</th>\n",
       "      <td>20</td>\n",
       "      <td>55</td>\n",
       "    </tr>\n",
       "    <tr>\n",
       "      <th>4</th>\n",
       "      <td>22</td>\n",
       "      <td>85</td>\n",
       "    </tr>\n",
       "    <tr>\n",
       "      <th>5</th>\n",
       "      <td>19</td>\n",
       "      <td>91</td>\n",
       "    </tr>\n",
       "  </tbody>\n",
       "</table>\n",
       "</div>"
      ],
      "text/plain": [
       "   Age  Marks1\n",
       "0   18      73\n",
       "1   18      79\n",
       "2   23      70\n",
       "3   20      55\n",
       "4   22      85\n",
       "5   19      91"
      ]
     },
     "execution_count": 16,
     "metadata": {},
     "output_type": "execute_result"
    }
   ],
   "source": [
    "x = dt.iloc[:,1:]\n",
    "x"
   ]
  },
  {
   "cell_type": "code",
   "execution_count": 17,
   "id": "4715187b-7593-4271-9ee2-2f620bbac943",
   "metadata": {},
   "outputs": [],
   "source": [
    "link = linkage(x,method='ward')\n"
   ]
  },
  {
   "cell_type": "code",
   "execution_count": 26,
   "id": "98fc6265-4fad-4d37-8055-501d95c5422a",
   "metadata": {},
   "outputs": [
    {
     "data": {
      "image/png": "[encoded data removed]",
      "text/plain": [
       "<Figure size 640x480 with 1 Axes>"
      ]
     },
     "metadata": {},
     "output_type": "display_data"
    }
   ],
   "source": [
    "dendrogram(\n",
    "    link,\n",
    "    labels=dt[\"Student\"].values,\n",
    "    orientation='top',\n",
    "    distance_sort='descending',\n",
    "    show_leaf_counts=True\n",
    ")\n",
    "\n",
    "plt.title('Dendrogram- Hierarchical Clustering')\n",
    "plt.xlabel('Student')\n",
    "plt.ylabel('Distance')\n",
    "plt.grid(True)\n",
    "plt.show()"
   ]
  },
  {
   "cell_type": "code",
   "execution_count": 23,
   "id": "68abe3d3-b01d-4248-b45a-8be42009e855",
   "metadata": {},
   "outputs": [],
   "source": [
    "# Optional: Step 4 - Apply Agglomerative Clustering (if you want to assign clusters)\n",
    "cluster = AgglomerativeClustering(n_clusters=2, metric='euclidean', linkage='ward')\n",
    "dt['Cluster'] = cluster.fit_predict(x)"
   ]
  },
  {
   "cell_type": "code",
   "execution_count": 24,
   "id": "8fd938b8-4469-4f18-8a1c-e26fed639a9b",
   "metadata": {},
   "outputs": [
    {
     "data": {
      "text/html": [
       "<div>\n",
       "<style scoped>\n",
       "    .dataframe tbody tr th:only-of-type {\n",
       "        vertical-align: middle;\n",
       "    }\n",
       "\n",
       "    .dataframe tbody tr th {\n",
       "        vertical-align: top;\n",
       "    }\n",
       "\n",
       "    .dataframe thead th {\n",
       "        text-align: right;\n",
       "    }\n",
       "</style>\n",
       "<table border=\"1\" class=\"dataframe\">\n",
       "  <thead>\n",
       "    <tr style=\"text-align: right;\">\n",
       "      <th></th>\n",
       "      <th>Student</th>\n",
       "      <th>Age</th>\n",
       "      <th>Marks1</th>\n",
       "      <th>Cluster</th>\n",
       "    </tr>\n",
       "  </thead>\n",
       "  <tbody>\n",
       "    <tr>\n",
       "      <th>0</th>\n",
       "      <td>S1</td>\n",
       "      <td>18</td>\n",
       "      <td>73</td>\n",
       "      <td>0</td>\n",
       "    </tr>\n",
       "    <tr>\n",
       "      <th>1</th>\n",
       "      <td>S2</td>\n",
       "      <td>18</td>\n",
       "      <td>79</td>\n",
       "      <td>0</td>\n",
       "    </tr>\n",
       "    <tr>\n",
       "      <th>2</th>\n",
       "      <td>S3</td>\n",
       "      <td>23</td>\n",
       "      <td>70</td>\n",
       "      <td>0</td>\n",
       "    </tr>\n",
       "    <tr>\n",
       "      <th>3</th>\n",
       "      <td>S4</td>\n",
       "      <td>20</td>\n",
       "      <td>55</td>\n",
       "      <td>1</td>\n",
       "    </tr>\n",
       "    <tr>\n",
       "      <th>4</th>\n",
       "      <td>S5</td>\n",
       "      <td>22</td>\n",
       "      <td>85</td>\n",
       "      <td>0</td>\n",
       "    </tr>\n",
       "  </tbody>\n",
       "</table>\n",
       "</div>"
      ],
      "text/plain": [
       "  Student  Age  Marks1  Cluster\n",
       "0      S1   18      73        0\n",
       "1      S2   18      79        0\n",
       "2      S3   23      70        0\n",
       "3      S4   20      55        1\n",
       "4      S5   22      85        0"
      ]
     },
     "execution_count": 24,
     "metadata": {},
     "output_type": "execute_result"
    }
   ],
   "source": [
    "# help(AgglomerativeClustering)\n",
    "dt.head()"
   ]
  },
  {
   "cell_type": "code",
   "execution_count": null,
   "id": "5d610369-3404-4ad7-90ce-8c3316be6684",
   "metadata": {},
   "outputs": [],
   "source": [
    "\n"
   ]
  },
  {
   "cell_type": "code",
   "execution_count": null,
   "id": "cc543f97-0259-42c4-a198-2f857c8bf5bb",
   "metadata": {},
   "outputs": [],
   "source": []
  }
 ],
 "metadata": {
  "kernelspec": {
   "display_name": "Python 3 (ipykernel)",
   "language": "python",
   "name": "python3"
  },
  "language_info": {
   "codemirror_mode": {
    "name": "ipython",
    "version": 3
   },
   "file_extension": ".py",
   "mimetype": "text/x-python",
   "name": "python",
   "nbconvert_exporter": "python",
   "pygments_lexer": "ipython3",
   "version": "3.12.7"
  },
  "widgets": {
   "application/vnd.jupyter.widget-state+json": {
    "state": {},
    "version_major": 2,
    "version_minor": 0
   }
  }
 },
 "nbformat": 4,
 "nbformat_minor": 5
}
